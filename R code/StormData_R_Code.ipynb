{
 "cells": [
  {
   "cell_type": "markdown",
   "metadata": {},
   "source": [
    "# Assignment Instructions\n",
    "\n",
    "\n",
    "Analyze storms data. This includes:\n",
    "\n",
    "- Create 3 linear models, with at least one multiple linear model\n",
    "- Create QQ chart for each model\n",
    "- Include the following R Features at least once. \n",
    "- Include a written analysis of statistically significant features around the storms's category referencing the t-test(s) and linear models as evidence of your conclusions.\n",
    "\n",
    "\n",
    "## R Features\n",
    "* t.test()\n",
    "* 3 uses of lm()\n",
    "* 3 qq plots, one for each model\n",
    "\n",
    "## Datasets\n",
    "* storms"
   ]
  },
  {
   "cell_type": "code",
   "execution_count": 1,
   "metadata": {},
   "outputs": [
    {
     "name": "stderr",
     "output_type": "stream",
     "text": [
      "Warning message:\n",
      "\"package 'lubridate' was built under R version 3.6.2\"\n",
      "Attaching package: 'lubridate'\n",
      "\n",
      "The following object is masked from 'package:base':\n",
      "\n",
      "    date\n",
      "\n",
      "Warning message:\n",
      "\"package 'tidyverse' was built under R version 3.6.2\"-- Attaching packages --------------------------------------- tidyverse 1.3.0 --\n",
      "v ggplot2 3.2.1     v purrr   0.3.3\n",
      "v tibble  2.1.3     v dplyr   0.8.3\n",
      "v tidyr   1.0.0     v stringr 1.4.0\n",
      "v readr   1.3.1     v forcats 0.4.0\n",
      "Warning message:\n",
      "\"package 'ggplot2' was built under R version 3.6.2\"Warning message:\n",
      "\"package 'tibble' was built under R version 3.6.2\"Warning message:\n",
      "\"package 'tidyr' was built under R version 3.6.2\"Warning message:\n",
      "\"package 'readr' was built under R version 3.6.2\"Warning message:\n",
      "\"package 'purrr' was built under R version 3.6.2\"Warning message:\n",
      "\"package 'dplyr' was built under R version 3.6.2\"Warning message:\n",
      "\"package 'stringr' was built under R version 3.6.2\"Warning message:\n",
      "\"package 'forcats' was built under R version 3.6.2\"-- Conflicts ------------------------------------------ tidyverse_conflicts() --\n",
      "x lubridate::as.difftime() masks base::as.difftime()\n",
      "x lubridate::date()        masks base::date()\n",
      "x dplyr::filter()          masks stats::filter()\n",
      "x lubridate::intersect()   masks base::intersect()\n",
      "x dplyr::lag()             masks stats::lag()\n",
      "x lubridate::setdiff()     masks base::setdiff()\n",
      "x lubridate::union()       masks base::union()\n"
     ]
    }
   ],
   "source": [
    "# Load libraries\n",
    "library(lubridate)\n",
    "library(tidyverse)"
   ]
  },
  {
   "cell_type": "code",
   "execution_count": 2,
   "metadata": {},
   "outputs": [
    {
     "name": "stdout",
     "output_type": "stream",
     "text": [
      "Observations: 10,010\n",
      "Variables: 13\n",
      "$ name        <chr> \"Amy\", \"Amy\", \"Amy\", \"Amy\", \"Amy\", \"Amy\", \"Amy\", \"Amy\",...\n",
      "$ year        <dbl> 1975, 1975, 1975, 1975, 1975, 1975, 1975, 1975, 1975, 1...\n",
      "$ month       <dbl> 6, 6, 6, 6, 6, 6, 6, 6, 6, 6, 6, 6, 6, 6, 6, 6, 7, 7, 7...\n",
      "$ day         <int> 27, 27, 27, 27, 28, 28, 28, 28, 29, 29, 29, 29, 30, 30,...\n",
      "$ hour        <dbl> 0, 6, 12, 18, 0, 6, 12, 18, 0, 6, 12, 18, 0, 6, 12, 18,...\n",
      "$ lat         <dbl> 27.5, 28.5, 29.5, 30.5, 31.5, 32.4, 33.3, 34.0, 34.4, 3...\n",
      "$ long        <dbl> -79.0, -79.0, -79.0, -79.0, -78.8, -78.7, -78.0, -77.0,...\n",
      "$ status      <chr> \"tropical depression\", \"tropical depression\", \"tropical...\n",
      "$ category    <ord> -1, -1, -1, -1, -1, -1, -1, -1, 0, 0, 0, 0, 0, 0, 0, 0,...\n",
      "$ wind        <int> 25, 25, 25, 25, 25, 25, 25, 30, 35, 40, 45, 50, 50, 55,...\n",
      "$ pressure    <int> 1013, 1013, 1013, 1013, 1012, 1012, 1011, 1006, 1004, 1...\n",
      "$ ts_diameter <dbl> NA, NA, NA, NA, NA, NA, NA, NA, NA, NA, NA, NA, NA, NA,...\n",
      "$ hu_diameter <dbl> NA, NA, NA, NA, NA, NA, NA, NA, NA, NA, NA, NA, NA, NA,...\n"
     ]
    }
   ],
   "source": [
    "# Explore data structure\n",
    "# Data: storms\n",
    "storms %>% glimpse()\n",
    "\n",
    "# Display help on data\n",
    "? storms"
   ]
  },
  {
   "cell_type": "code",
   "execution_count": 3,
   "metadata": {},
   "outputs": [
    {
     "data": {
      "text/plain": [
       "      lat             long              wind           pressure     \n",
       " Min.   : 8.90   Min.   :-101.90   Min.   : 15.00   Min.   : 882.0  \n",
       " 1st Qu.:17.00   1st Qu.: -79.50   1st Qu.: 35.00   1st Qu.: 984.0  \n",
       " Median :23.20   Median : -64.80   Median : 50.00   Median : 998.0  \n",
       " Mean   :23.85   Mean   : -63.36   Mean   : 54.53   Mean   : 990.9  \n",
       " 3rd Qu.:30.10   3rd Qu.: -47.12   3rd Qu.: 65.00   3rd Qu.:1005.0  \n",
       " Max.   :48.10   Max.   :  -6.00   Max.   :160.00   Max.   :1017.0  \n",
       "  ts_diameter       hu_diameter    \n",
       " Min.   :   0.00   Min.   :  0.00  \n",
       " 1st Qu.:  69.05   1st Qu.:  0.00  \n",
       " Median : 138.09   Median :  0.00  \n",
       " Mean   : 166.76   Mean   : 21.41  \n",
       " 3rd Qu.: 241.66   3rd Qu.: 28.77  \n",
       " Max.   :1001.18   Max.   :345.23  "
      ]
     },
     "metadata": {},
     "output_type": "display_data"
    }
   ],
   "source": [
    "# Data processing\n",
    "\n",
    "# normalize function\n",
    "normalize <- function(x) (x - mean(x))/sd(x)\n",
    "\n",
    "# droping NA values for ts_diameter and hu_diameter\n",
    "df <- storms %>% select(lat, long, wind,pressure,ts_diameter,hu_diameter)\n",
    "df <- drop_na(df)\n",
    "df %>% summary()"
   ]
  },
  {
   "cell_type": "markdown",
   "metadata": {},
   "source": [
    "### Linear Regression Model 1\n",
    "Model predicts storm's wind using lat, long, pressure, ts_diameter and hu_diameter."
   ]
  },
  {
   "cell_type": "code",
   "execution_count": 4,
   "metadata": {},
   "outputs": [
    {
     "data": {
      "text/plain": [
       "\n",
       "Call:\n",
       "lm(formula = wind ~ lat + long + pressure + ts_diameter + hu_diameter, \n",
       "    data = df)\n",
       "\n",
       "Residuals:\n",
       "    Min      1Q  Median      3Q     Max \n",
       "-41.014  -5.289   0.316   5.587  31.126 \n",
       "\n",
       "Coefficients:\n",
       "            Estimate Std. Error t value Pr(>|t|)    \n",
       "(Intercept)  54.5333     0.1459 373.833  < 2e-16 ***\n",
       "lat          -1.5061     0.1559  -9.660  < 2e-16 ***\n",
       "long          1.2084     0.1500   8.054 1.09e-15 ***\n",
       "pressure    -25.1390     0.2861 -87.870  < 2e-16 ***\n",
       "ts_diameter   0.6542     0.2190   2.987  0.00283 ** \n",
       "hu_diameter  -1.4505     0.2817  -5.149 2.77e-07 ***\n",
       "---\n",
       "Signif. codes:  0 '***' 0.001 '**' 0.01 '*' 0.05 '.' 0.1 ' ' 1\n",
       "\n",
       "Residual standard error: 8.608 on 3476 degrees of freedom\n",
       "Multiple R-squared:  0.887,\tAdjusted R-squared:  0.8869 \n",
       "F-statistic:  5459 on 5 and 3476 DF,  p-value: < 2.2e-16\n"
      ]
     },
     "metadata": {},
     "output_type": "display_data"
    },
    {
     "name": "stdout",
     "output_type": "stream",
     "text": [
      "The coefficient confidence intervals"
     ]
    },
    {
     "data": {
      "text/html": [
       "<table>\n",
       "<thead><tr><th></th><th scope=col>2.5 %</th><th scope=col>97.5 %</th></tr></thead>\n",
       "<tbody>\n",
       "\t<tr><th scope=row>(Intercept)</th><td> 54.2473024</td><td> 54.8193259</td></tr>\n",
       "\t<tr><th scope=row>lat</th><td> -1.8118249</td><td> -1.2004310</td></tr>\n",
       "\t<tr><th scope=row>long</th><td>  0.9142226</td><td>  1.5025856</td></tr>\n",
       "\t<tr><th scope=row>pressure</th><td>-25.6998847</td><td>-24.5780315</td></tr>\n",
       "\t<tr><th scope=row>ts_diameter</th><td>  0.2248406</td><td>  1.0834687</td></tr>\n",
       "\t<tr><th scope=row>hu_diameter</th><td> -2.0028024</td><td> -0.8981499</td></tr>\n",
       "</tbody>\n",
       "</table>\n"
      ],
      "text/latex": [
       "\\begin{tabular}{r|ll}\n",
       "  & 2.5 \\% & 97.5 \\%\\\\\n",
       "\\hline\n",
       "\t(Intercept) &  54.2473024 &  54.8193259\\\\\n",
       "\tlat &  -1.8118249 &  -1.2004310\\\\\n",
       "\tlong &   0.9142226 &   1.5025856\\\\\n",
       "\tpressure & -25.6998847 & -24.5780315\\\\\n",
       "\tts\\_diameter &   0.2248406 &   1.0834687\\\\\n",
       "\thu\\_diameter &  -2.0028024 &  -0.8981499\\\\\n",
       "\\end{tabular}\n"
      ],
      "text/markdown": [
       "\n",
       "| <!--/--> | 2.5 % | 97.5 % |\n",
       "|---|---|---|\n",
       "| (Intercept) |  54.2473024 |  54.8193259 |\n",
       "| lat |  -1.8118249 |  -1.2004310 |\n",
       "| long |   0.9142226 |   1.5025856 |\n",
       "| pressure | -25.6998847 | -24.5780315 |\n",
       "| ts_diameter |   0.2248406 |   1.0834687 |\n",
       "| hu_diameter |  -2.0028024 |  -0.8981499 |\n",
       "\n"
      ],
      "text/plain": [
       "            2.5 %       97.5 %     \n",
       "(Intercept)  54.2473024  54.8193259\n",
       "lat          -1.8118249  -1.2004310\n",
       "long          0.9142226   1.5025856\n",
       "pressure    -25.6998847 -24.5780315\n",
       "ts_diameter   0.2248406   1.0834687\n",
       "hu_diameter  -2.0028024  -0.8981499"
      ]
     },
     "metadata": {},
     "output_type": "display_data"
    },
    {
     "data": {
      "image/png": "[encoded data removed]",
      "text/plain": [
       "plot without title"
      ]
     },
     "metadata": {},
     "output_type": "display_data"
    },
    {
     "data": {
      "image/png": "[encoded data removed]",
      "text/plain": [
       "plot without title"
      ]
     },
     "metadata": {},
     "output_type": "display_data"
    }
   ],
   "source": [
    "# Normalize data\n",
    "df <- df %>% \n",
    "  mutate(lat = normalize(lat), \n",
    "         long = normalize(long), \n",
    "         pressure = normalize(pressure),\n",
    "         ts_diameter = normalize(ts_diameter),\n",
    "         hu_diameter = normalize(hu_diameter)) \n",
    "# \n",
    "#df %>% glimpse()\n",
    "df.mod <- lm(wind ~ lat + long + pressure \n",
    "              + ts_diameter  + hu_diameter, data = df)\n",
    "df.mod %>% summary()\n",
    "cat('The coefficient confidence intervals')\n",
    "df.mod %>% confint()\n",
    "\n",
    "# Add the predicted score to the dataframe\n",
    "df <- df %>% \n",
    "  mutate(predicted = predict(df.mod, data = df),\n",
    "         resids = wind - predicted)\n",
    "#df %>% head()\n",
    "\n",
    "h <- df %>% \n",
    "  ggplot(aes(resids, ..density..)) + \n",
    "  geom_histogram(bins = 10, alpha = 0.3, color = 'blue') +\n",
    "  geom_density(size = 1) +\n",
    "  labs(title=\"Histogram and density function \\n for residuals\", x=\"Residual value\")\n",
    "print(h)\n",
    "# print QQ plot\n",
    "p <- df %>% \n",
    "  ggplot(aes(sample = resids)) + \n",
    "  geom_qq() + \n",
    "  labs(title=\"Quantile-quantile Normal plot \\n of residuals\")\n",
    "print(p)"
   ]
  },
  {
   "cell_type": "markdown",
   "metadata": {},
   "source": [
    "#### all model coefficients are significant coeeficients, they do not overlap with 0 and we want to see large t value and small pi (null hypoteses is coefficent is zero, so we want to reject that hypotesis),also we can see 2 or 3 starts - that means coeff are significats, also R squared is closer to 1 which is good,  and so far model looks like a good fit.\n"
   ]
  },
  {
   "cell_type": "markdown",
   "metadata": {},
   "source": [
    "### Linear Regression Model 2\n",
    "Model 2 predicts storm's pressure using lat, long, wind, ts_diameter and hu_diameter."
   ]
  },
  {
   "cell_type": "code",
   "execution_count": 5,
   "metadata": {},
   "outputs": [
    {
     "data": {
      "text/plain": [
       "\n",
       "Call:\n",
       "lm(formula = pressure ~ lat + long + wind + ts_diameter + hu_diameter, \n",
       "    data = df1)\n",
       "\n",
       "Residuals:\n",
       "    Min      1Q  Median      3Q     Max \n",
       "-42.368  -2.869   0.234   3.477  23.229 \n",
       "\n",
       "Coefficients:\n",
       "             Estimate Std. Error   t value Pr(>|t|)    \n",
       "(Intercept) 990.86760    0.09672 10244.240  < 2e-16 ***\n",
       "lat          -0.39163    0.10455    -3.746 0.000183 ***\n",
       "long          1.14500    0.09852    11.623  < 2e-16 ***\n",
       "wind        -14.09144    0.16037   -87.870  < 2e-16 ***\n",
       "ts_diameter  -1.10045    0.14417    -7.633 2.94e-14 ***\n",
       "hu_diameter  -5.07081    0.16661   -30.435  < 2e-16 ***\n",
       "---\n",
       "Signif. codes:  0 '***' 0.001 '**' 0.01 '*' 0.05 '.' 0.1 ' ' 1\n",
       "\n",
       "Residual standard error: 5.708 on 3476 degrees of freedom\n",
       "Multiple R-squared:  0.9193,\tAdjusted R-squared:  0.9192 \n",
       "F-statistic:  7916 on 5 and 3476 DF,  p-value: < 2.2e-16\n"
      ]
     },
     "metadata": {},
     "output_type": "display_data"
    },
    {
     "name": "stdout",
     "output_type": "stream",
     "text": [
      "The coefficient confidence intervals"
     ]
    },
    {
     "data": {
      "text/html": [
       "<table>\n",
       "<thead><tr><th></th><th scope=col>2.5 %</th><th scope=col>97.5 %</th></tr></thead>\n",
       "<tbody>\n",
       "\t<tr><th scope=row>(Intercept)</th><td>990.6779625</td><td>991.0572471</td></tr>\n",
       "\t<tr><th scope=row>lat</th><td> -0.5966145</td><td> -0.1866464</td></tr>\n",
       "\t<tr><th scope=row>long</th><td>  0.9518476</td><td>  1.3381544</td></tr>\n",
       "\t<tr><th scope=row>wind</th><td>-14.4058659</td><td>-13.7770200</td></tr>\n",
       "\t<tr><th scope=row>ts_diameter</th><td> -1.3831196</td><td> -0.8177875</td></tr>\n",
       "\t<tr><th scope=row>hu_diameter</th><td> -5.3974653</td><td> -4.7441452</td></tr>\n",
       "</tbody>\n",
       "</table>\n"
      ],
      "text/latex": [
       "\\begin{tabular}{r|ll}\n",
       "  & 2.5 \\% & 97.5 \\%\\\\\n",
       "\\hline\n",
       "\t(Intercept) & 990.6779625 & 991.0572471\\\\\n",
       "\tlat &  -0.5966145 &  -0.1866464\\\\\n",
       "\tlong &   0.9518476 &   1.3381544\\\\\n",
       "\twind & -14.4058659 & -13.7770200\\\\\n",
       "\tts\\_diameter &  -1.3831196 &  -0.8177875\\\\\n",
       "\thu\\_diameter &  -5.3974653 &  -4.7441452\\\\\n",
       "\\end{tabular}\n"
      ],
      "text/markdown": [
       "\n",
       "| <!--/--> | 2.5 % | 97.5 % |\n",
       "|---|---|---|\n",
       "| (Intercept) | 990.6779625 | 991.0572471 |\n",
       "| lat |  -0.5966145 |  -0.1866464 |\n",
       "| long |   0.9518476 |   1.3381544 |\n",
       "| wind | -14.4058659 | -13.7770200 |\n",
       "| ts_diameter |  -1.3831196 |  -0.8177875 |\n",
       "| hu_diameter |  -5.3974653 |  -4.7441452 |\n",
       "\n"
      ],
      "text/plain": [
       "            2.5 %       97.5 %     \n",
       "(Intercept) 990.6779625 991.0572471\n",
       "lat          -0.5966145  -0.1866464\n",
       "long          0.9518476   1.3381544\n",
       "wind        -14.4058659 -13.7770200\n",
       "ts_diameter  -1.3831196  -0.8177875\n",
       "hu_diameter  -5.3974653  -4.7441452"
      ]
     },
     "metadata": {},
     "output_type": "display_data"
    },
    {
     "data": {
      "image/png": "[encoded data removed]",
      "text/plain": [
       "plot without title"
      ]
     },
     "metadata": {},
     "output_type": "display_data"
    },
    {
     "data": {
      "image/png": "[encoded data removed]",
      "text/plain": [
       "plot without title"
      ]
     },
     "metadata": {},
     "output_type": "display_data"
    }
   ],
   "source": [
    "df1 <- storms %>% select(lat, long, wind,pressure,ts_diameter,hu_diameter)\n",
    "df1 <- drop_na(df1)\n",
    "# df1 %>% summary()\n",
    "# normalize data\n",
    "df1 <- df1 %>% \n",
    "  mutate(lat = normalize(lat), \n",
    "         long = normalize(long), \n",
    "         wind = normalize(wind),\n",
    "         ts_diameter = normalize(ts_diameter),\n",
    "         hu_diameter = normalize(hu_diameter)) \n",
    "\n",
    "#df1 %>% glimpse()\n",
    "\n",
    "df1.mod <- lm(pressure ~ lat + long + wind \n",
    "              + ts_diameter  + hu_diameter, data = df1)\n",
    "df1.mod %>% summary()\n",
    "cat('The coefficient confidence intervals')\n",
    "df1.mod %>% confint()\n",
    "\n",
    "df1 <- df1 %>% \n",
    "  mutate(predicted = predict(df1.mod, data = df1),\n",
    "         resids = pressure - predicted)\n",
    "\n",
    "h1 <- df1 %>% \n",
    "  ggplot(aes(resids, ..density..)) + \n",
    "  geom_histogram(bins = 10, alpha = 0.3, color = 'blue') +\n",
    "  geom_density(size = 1) +\n",
    "  labs(title=\"Histogram and density function \\n for residuals\", x=\"Residual value\")\n",
    "print(h1)\n",
    "# print QQ plot\n",
    "p1 <- df1 %>% \n",
    "  ggplot(aes(sample = resids)) + \n",
    "  geom_qq() + \n",
    "  labs(title=\"Quantile-quantile Normal plot \\n of residuals\")\n",
    "print(p1)"
   ]
  },
  {
   "cell_type": "markdown",
   "metadata": {},
   "source": [
    "### Linear Regression Model 3\n",
    "This is single regression model. Predicts wind using pressure."
   ]
  },
  {
   "cell_type": "code",
   "execution_count": 6,
   "metadata": {},
   "outputs": [
    {
     "data": {
      "text/plain": [
       "\n",
       "Call:\n",
       "lm(formula = wind ~ pressure, data = df2)\n",
       "\n",
       "Residuals:\n",
       "    Min      1Q  Median      3Q     Max \n",
       "-45.229  -4.874   0.250   5.375  40.126 \n",
       "\n",
       "Coefficients:\n",
       "             Estimate Std. Error t value Pr(>|t|)    \n",
       "(Intercept)  53.49500    0.08775   609.6   <2e-16 ***\n",
       "pressure    -24.70000    0.08776  -281.5   <2e-16 ***\n",
       "---\n",
       "Signif. codes:  0 '***' 0.001 '**' 0.01 '*' 0.05 '.' 0.1 ' ' 1\n",
       "\n",
       "Residual standard error: 8.78 on 10008 degrees of freedom\n",
       "Multiple R-squared:  0.8878,\tAdjusted R-squared:  0.8878 \n",
       "F-statistic: 7.922e+04 on 1 and 10008 DF,  p-value: < 2.2e-16\n"
      ]
     },
     "metadata": {},
     "output_type": "display_data"
    },
    {
     "name": "stdout",
     "output_type": "stream",
     "text": [
      "The coefficient confidence intervals"
     ]
    },
    {
     "data": {
      "text/html": [
       "<table>\n",
       "<thead><tr><th></th><th scope=col>2.5 %</th><th scope=col>97.5 %</th></tr></thead>\n",
       "<tbody>\n",
       "\t<tr><th scope=row>(Intercept)</th><td> 53.32299</td><td> 53.66702</td></tr>\n",
       "\t<tr><th scope=row>pressure</th><td>-24.87202</td><td>-24.52797</td></tr>\n",
       "</tbody>\n",
       "</table>\n"
      ],
      "text/latex": [
       "\\begin{tabular}{r|ll}\n",
       "  & 2.5 \\% & 97.5 \\%\\\\\n",
       "\\hline\n",
       "\t(Intercept) &  53.32299 &  53.66702\\\\\n",
       "\tpressure & -24.87202 & -24.52797\\\\\n",
       "\\end{tabular}\n"
      ],
      "text/markdown": [
       "\n",
       "| <!--/--> | 2.5 % | 97.5 % |\n",
       "|---|---|---|\n",
       "| (Intercept) |  53.32299 |  53.66702 |\n",
       "| pressure | -24.87202 | -24.52797 |\n",
       "\n"
      ],
      "text/plain": [
       "            2.5 %     97.5 %   \n",
       "(Intercept)  53.32299  53.66702\n",
       "pressure    -24.87202 -24.52797"
      ]
     },
     "metadata": {},
     "output_type": "display_data"
    },
    {
     "data": {
      "image/png": "[encoded data removed]",
      "text/plain": [
       "plot without title"
      ]
     },
     "metadata": {},
     "output_type": "display_data"
    },
    {
     "data": {
      "image/png": "[encoded data removed]",
      "text/plain": [
       "plot without title"
      ]
     },
     "metadata": {},
     "output_type": "display_data"
    }
   ],
   "source": [
    "df2 <- storms %>% select(wind,pressure)\n",
    "df12 <- drop_na(df2)\n",
    "# df1 %>% summary()\n",
    "# normalize data\n",
    "df2 <- df2 %>% \n",
    "  mutate(pressure = normalize(pressure)) \n",
    "\n",
    "#df1 %>% glimpse()\n",
    "\n",
    "df2.mod <- lm(wind ~ pressure, data = df2)\n",
    "df2.mod %>% summary()\n",
    "cat('The coefficient confidence intervals')\n",
    "df2.mod %>% confint()\n",
    "\n",
    "df2 <- df2 %>% \n",
    "  mutate(predicted = predict(df2.mod, data = df2),\n",
    "         resids = wind - predicted)\n",
    "\n",
    "h2 <- df2 %>% \n",
    "  ggplot(aes(resids, ..density..)) + \n",
    "  geom_histogram(bins = 10, alpha = 0.3, color = 'blue') +\n",
    "  geom_density(size = 1) +\n",
    "  labs(title=\"Histogram and density function \\n for residuals\", x=\"Residual value\")\n",
    "print(h2)\n",
    "# print QQ plot\n",
    "p2 <- df2 %>% \n",
    "  ggplot(aes(sample = resids)) + \n",
    "  geom_qq() + \n",
    "  labs(title=\"Quantile-quantile Normal plot \\n of residuals\")\n",
    "print(p2)"
   ]
  },
  {
   "cell_type": "markdown",
   "metadata": {},
   "source": [
    "### Analysis and Conclusions\n",
    "- For Model 1 (predicts storm's wind) we can say that model looks like a good fit. All model coefficients are significant (large t-value, and small p-value). Also R squared is closer to 1 which is good. From the residuals histogram we can see normal distribution, and QQ plot shows prety much straight line. So model is a good fit.\n",
    "- Model 2 (predicts storm's pressure) also looks like a good fit. All coefficients are significant, and R squared is even higher 0.91. Residuals distribution is normal.\n",
    "- Model 3 is single regression model. Predicts wind using pressure value. This model is also prety much a good fit. Coefficients are significant, and R squared is 0.88 (close to 1). Residual distribution is normal."
   ]
  },
  {
   "cell_type": "code",
   "execution_count": null,
   "metadata": {},
   "outputs": [],
   "source": []
  }
 ],
 "metadata": {
  "kernelspec": {
   "display_name": "R",
   "language": "R",
   "name": "ir"
  },
  "language_info": {
   "codemirror_mode": "r",
   "file_extension": ".r",
   "mimetype": "text/x-r-source",
   "name": "R",
   "pygments_lexer": "r",
   "version": "3.6.1"
  }
 },
 "nbformat": 4,
 "nbformat_minor": 2
}
